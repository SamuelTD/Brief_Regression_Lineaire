{
 "cells": [
  {
   "cell_type": "markdown",
   "metadata": {},
   "source": [
    "# <span style='color:Gray'> <span style='font-family:Georgia'> Predicting insurance charges : Data cleaning \n",
    "  </span> \n",
    "\n",
    "---\n",
    "<div style=\"position: relative; height: 50px;\">\n",
    " <img src=\"data:image/png;base64,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\" alt=\"Description\" style=\"position: absolute; bottom: 0; right: 0; width: 100px; height: auto;\">\n",
    "\n",
    "\n",
    "</div>\n",
    "\n",
    "<div>\n",
    "\n",
    "## <span style='color: Orange'> <span style='font-family:Georgia'> Overview\n",
    "</div>\n",
    "\n",
    "- [<span style='color: White'> <span style='font-family:Georgia'>Case study presentation </span>](#presentation)\n",
    "- [<span style='color: White'> <span style='font-family:Georgia'>Uploading the data</span>](#load-id)\n",
    "- [<span style='color: White'> <span style='font-family:Georgia'>Cleaaning and evaluating  the data</span>](#cleanse-id) \n",
    "\n",
    "\n",
    "\n",
    " "
   ]
  },
  {
   "cell_type": "markdown",
   "metadata": {},
   "source": [
    "## <span id=\"presentation\"> <span style='color:Orange'> <span style='font-family:Georgia'> 1. Case Study Presentation </span> \n",
    "\n",
    "Assur'Aimant is a French company that wishes to expand its businness to the USA. The company would like to be advised by IA experts which can help them to estimate the charges of insurance. \n",
    "After a market study we have been able to extract a dataset that we'll be using for modelisation. \n",
    "\n",
    "---------------------------------------------\n",
    "\n",
    " **The Data Set** \n",
    "\n",
    "\n",
    "\n",
    " | BMI | Sex | Age | Children | Smoker | Region | Charges| \n",
    " |-----|-----|-----|----------|--------|--------|--------|\n",
    "\n",
    " Where: \n",
    "\n",
    " - **Body Mass Index (BMI) :**  Provides a ratio between height and weight. Ideally, it should be between 18.5 and 24.9.\n",
    " - **Gender (Sex) :**  The gender of the person purchasing the insurance (male or female).\n",
    " - **Age  :** The age of the primary beneficiary. \n",
    " - **Children  :**  The number of children covered by the insurance \n",
    " - **Smoker  :**  Indicates whether the individual is a smoker or a non-smoker \n",
    " - **Region  :**  The geographical area or location \n",
    " - **Charges  :**  The cost or expenses covered by the insurance. (Our target variable)"
   ]
  },
  {
   "cell_type": "markdown",
   "metadata": {},
   "source": [
    "## <span id=\"load-id\"> <span style='color: Orange'> <span style='font-family:Georgia'> 2. Data Upload"
   ]
  },
  {
   "cell_type": "code",
   "execution_count": 1,
   "metadata": {},
   "outputs": [],
   "source": [
    "# Loading the necessary libraries \n",
    "\n",
    "#Data manipulation\n",
    "import pandas as pd \n",
    "import numpy as np \n",
    "\n",
    "#Dataviz \n",
    "import matplotlib.pyplot as plt \n",
    "import missingno as msno\n"
   ]
  },
  {
   "cell_type": "code",
   "execution_count": 2,
   "metadata": {},
   "outputs": [
    {
     "name": "stdout",
     "output_type": "stream",
     "text": [
      "The data set has :1338 number of rows and 7 number of columns \n",
      "\n",
      "   age     sex    bmi  children smoker     region     charges\n",
      "0   19  female  27.90         0    yes  southwest  16884.9240\n",
      "1   18    male  33.77         1     no  southeast   1725.5523\n"
     ]
    }
   ],
   "source": [
    "#Importing the dataset containg the insurance information and visualizing said dataset\n",
    "df=pd.read_csv(\"Dataset.csv\")\n",
    "print(\"The data set has :\"+str(df.shape[0])+\" number of rows and \"+str(df.shape[1])+ \" number of columns \")\n",
    "print(\"\")\n",
    "print(df.head(2))#small preview of our dataset"
   ]
  },
  {
   "cell_type": "markdown",
   "metadata": {},
   "source": [
    "## <span id=\"cleanse-id\"> <span style='color: Orange'> <span style='font-family:Georgia'> 3. Cleaning and preparing the data"
   ]
  },
  {
   "cell_type": "markdown",
   "metadata": {},
   "source": [
    "### <span style='color:White'> <span style='font-family:Georgia'> 3.1 Finding missin (null) values \n",
    "  "
   ]
  },
  {
   "cell_type": "code",
   "execution_count": 3,
   "metadata": {},
   "outputs": [
    {
     "name": "stdout",
     "output_type": "stream",
     "text": [
      "There are not missing values to be shown\n"
     ]
    }
   ],
   "source": [
    "\n",
    "# Calculate the percentage of missing values per row\n",
    "missing=df.isna().sum()\n",
    "\n",
    "\n",
    "if missing.sum()==0:\n",
    "     print(\"There are not missing values to be shown\")\n",
    "else:\n",
    "    msno.heatmap(df)\n",
    "    plt.title('Missing Data Heatmap', fontsize=16)\n",
    "    plt.figure(figsize=(12, 8))  # Adjust the size to suit your data\n",
    "    plt.show()\n",
    "\n"
   ]
  },
  {
   "cell_type": "markdown",
   "metadata": {},
   "source": [
    "### <span style='color:White'> <span style='font-family:Georgia'> 3.2 Finding duplicates "
   ]
  },
  {
   "cell_type": "code",
   "execution_count": 4,
   "metadata": {},
   "outputs": [
    {
     "name": "stdout",
     "output_type": "stream",
     "text": [
      "The number of duplicate rows is equal to : 1 \n",
      "\n",
      "Duplicate rows : \n",
      "\n",
      "     age   sex    bmi  children smoker     region    charges\n",
      "581   19  male  30.59         0     no  northwest  1639.5631\n",
      "\n",
      "Our data set now has 1337: number of rows\n"
     ]
    }
   ],
   "source": [
    "#Finding duplicates \n",
    "\n",
    "\n",
    "num_duplicates = df.duplicated().sum() #To filter the dataset containing missing values\n",
    "duplicate_rows = df[df.duplicated()]\n",
    "print(\"The number of duplicate rows is equal to : {} \\n\\nDuplicate rows : \\n\\n{}\".format(num_duplicates,duplicate_rows) )\n",
    "print(\"\")\n",
    "\n",
    "\n",
    "#Dropping the duplicates \n",
    "df.drop_duplicates(inplace=True)\n",
    "\n",
    "print(\"Our data set now has {}: number of rows\".format(df.shape[0]))"
   ]
  },
  {
   "cell_type": "markdown",
   "metadata": {},
   "source": [
    "### <span style='color:White'> <span style='font-family:Georgia'> 3.2 Cleaning the categorical variables"
   ]
  },
  {
   "cell_type": "code",
   "execution_count": 5,
   "metadata": {},
   "outputs": [
    {
     "name": "stdout",
     "output_type": "stream",
     "text": [
      "age           int64\n",
      "sex          object\n",
      "bmi         float64\n",
      "children      int64\n",
      "smoker       object\n",
      "region       object\n",
      "charges     float64\n",
      "dtype: object\n",
      "Unique values in sex: ['female' 'male']\n",
      "Unique values in smoker: ['yes' 'no']\n",
      "Unique values in region: ['southwest' 'southeast' 'northwest' 'northeast']\n"
     ]
    }
   ],
   "source": [
    "\n",
    "#cleaning my categorical variables\n",
    "categorical_columns = ['sex', 'smoker', 'region']\n",
    "\n",
    "# Setting a loop to clean my categorical columns by using .strip()\n",
    "for col in categorical_columns:\n",
    "    df[col] = df[col].str.strip()\n",
    "\n",
    "#Checking the data types and unique values to verify that my data is completely cleaned\n",
    "print(df.dtypes)\n",
    "for col in categorical_columns:\n",
    "    print(f\"Unique values in {col}: {df[col].unique()}\")"
   ]
  },
  {
   "cell_type": "markdown",
   "metadata": {},
   "source": [
    "### <span style='color:White'> <span style='font-family:Georgia'> 3.2 Exporting our cleaned data"
   ]
  },
  {
   "cell_type": "code",
   "execution_count": 6,
   "metadata": {},
   "outputs": [],
   "source": [
    "df.to_pickle('exp_data.pkl')"
   ]
  }
 ],
 "metadata": {
  "kernelspec": {
   "display_name": ".venv",
   "language": "python",
   "name": "python3"
  },
  "language_info": {
   "codemirror_mode": {
    "name": "ipython",
    "version": 3
   },
   "file_extension": ".py",
   "mimetype": "text/x-python",
   "name": "python",
   "nbconvert_exporter": "python",
   "pygments_lexer": "ipython3",
   "version": "3.12.8"
  }
 },
 "nbformat": 4,
 "nbformat_minor": 2
}
